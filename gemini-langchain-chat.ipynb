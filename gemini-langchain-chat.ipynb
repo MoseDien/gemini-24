{
 "cells": [
  {
   "cell_type": "markdown",
   "metadata": {},
   "source": [
    "# 展示Gemini的文档方面的能力\n",
    "- https://blog.google/technology/ai/google-gemini-ai\n",
    "- https://deepmind.google/technologies/gemini\n",
    "- https://blog.google/technology/ai/google-gemini-next-generation-model-february-2024/\n",
    "\n",
    "## API\n",
    "- https://ai.google.dev/api/python/google/generativeai/GenerativeModel\n",
    "- https://api.python.langchain.com/en/latest/google_genai_api_reference.html\n"
   ]
  },
  {
   "cell_type": "code",
   "execution_count": 3,
   "metadata": {},
   "outputs": [],
   "source": [
    "import env\n",
    "import utils\n",
    "# Generation config\n",
    "config = {\"max_output_tokens\": 2048, \"temperature\": 0.4, \"top_p\": 1, \"top_k\": 32}"
   ]
  },
  {
   "cell_type": "code",
   "execution_count": 6,
   "metadata": {},
   "outputs": [],
   "source": [
    "# model\n",
    "from langchain_google_genai import ChatGoogleGenerativeAI\n",
    "\n",
    "# llm = ChatGoogleGenerativeAI(model=\"gemini-pro\")\n",
    "llm = ChatGoogleGenerativeAI(model=\"gemini-1.5-flash\")"
   ]
  },
  {
   "cell_type": "code",
   "execution_count": 7,
   "metadata": {},
   "outputs": [
    {
     "name": "stdout",
     "output_type": "stream",
     "text": [
      "In a realm of data, vast and deep,\n",
      "Where knowledge flows, and secrets sleep,\n",
      "A tool arose, a guiding hand,\n",
      "To bridge the gap, and understand.\n",
      "\n",
      "LangChain, they call it, a name so grand,\n",
      "A chain of thought, across the land,\n",
      "Connecting words, with logic's art,\n",
      "To unlock wisdom, from the start.\n",
      "\n",
      "With prompts it speaks, a gentle guide,\n",
      "Through labyrinths of data, it will stride,\n",
      "Asking questions, seeking clues,\n",
      "Unveiling truths, for me and you.\n",
      "\n",
      "It gathers facts, from sources near and far,\n",
      "From articles and books, a shining star,\n",
      "Then weaves them all, into a tapestry,\n",
      "Of knowledge, wisdom, and memory.\n",
      "\n",
      "The LLM's power, it can harness,\n",
      "To answer questions, and perform tasks,\n",
      "From summaries, to poems sweet,\n",
      "LangChain's magic, can't be beat.\n",
      "\n",
      "So let us sing, of this tool so fine,\n",
      "A bridge between minds, a guiding line,\n",
      "For knowledge seekers, everywhere,\n",
      "LangChain's light, will always share.\n",
      "\n",
      "With every click, and every query,\n",
      "New insights bloom, a wondrous story,\n",
      "In this digital age, where knowledge thrives,\n",
      "LangChain shines bright, and keeps us alive. \n",
      "\n"
     ]
    }
   ],
   "source": [
    "# chat, 内容生成\n",
    "\n",
    "result = llm.invoke(\"Write a ballad about LangChain\")\n",
    "print(result.content)"
   ]
  },
  {
   "cell_type": "code",
   "execution_count": 8,
   "metadata": {},
   "outputs": [
    {
     "name": "stdout",
     "output_type": "stream",
     "text": [
      "A language model,\n",
      "---\n",
      " quite grand,\n",
      "Learned to write with a human hand.\n",
      "It penned\n",
      "---\n",
      " poems and prose,\n",
      "With a flair that impressed,\n",
      "But lacked the soul,\n",
      "---\n",
      " it couldn't understand. \n",
      "\n",
      "---\n"
     ]
    }
   ],
   "source": [
    "# streaming\n",
    "for chunk in llm.stream(\"Write a limerick about LLMs.\"):\n",
    "    print(chunk.content)\n",
    "    print(\"---\")"
   ]
  },
  {
   "cell_type": "code",
   "execution_count": 9,
   "metadata": {},
   "outputs": [
    {
     "name": "stdout",
     "output_type": "stream",
     "text": [
      "## 雪夜行舟 (Xuě Yè Xíng Zhōu) - A Boat Ride in the Snow Night\n",
      "\n",
      "(Inspired by Su Dongpo's style)\n",
      "\n",
      "寒風凛凛夜沉沉， (Hán fēng lǐn lǐn yè chén chén,)\n",
      "Cold wind blows, night deep and dim, \n",
      "\n",
      "江上孤舟雪漫漫。 (Jiāng shàng gū zhōu xuě màn màn.)\n",
      "Lonely boat on the river, snow falls like a blanket.\n",
      "\n",
      "月色朦朧如玉盘， (Yuè sè méng lóng rú yù pán,)\n",
      "Moon veiled, like a jade dish,\n",
      "\n",
      "映照江水泛银光。 (Yìng zhào jiāng shuǐ fàn yín guāng.)\n",
      "Reflecting on the river, a silver sheen.\n",
      "\n",
      "岸边柳枝披银霜， (Àn biān liǔ zhī pī yín shuāng,)\n",
      "Willow branches on the shore, covered in frost white,\n",
      "\n",
      "松柏苍翠傲雪寒。 (Sōng bǎi cāng cuì ào xuě hán.)\n",
      "Pine and cypress stand tall, defiant in the snow's cold embrace.\n",
      "\n",
      "孤影飘零思故乡， (Gū yǐng piāo líng sī gù xiāng,)\n",
      "Lonely shadow adrift, longing for home,\n",
      "\n",
      "一壶浊酒醉心肠。 (Yī hú zhuó jiǔ zuì xīn cháng.)\n",
      "A cup of rough wine, soothing the troubled heart.\n",
      "\n",
      "雪夜行舟何处去， (Xuě yè xíng zhōu hé chǔ qù,)\n",
      "Where does the boat go on this snowy night,\n",
      "\n",
      "唯有江风送清歌。 (Wéi yǒu jiāng fēng sòng qīng gē.)\n",
      "Only the river wind carries my silent song. \n",
      "\n"
     ]
    }
   ],
   "source": [
    "result = llm.invoke(\"Write a ballad about snow in Chinese follow SuDongPo\")\n",
    "print(result.content)"
   ]
  },
  {
   "cell_type": "code",
   "execution_count": 10,
   "metadata": {},
   "outputs": [
    {
     "name": "stdout",
     "output_type": "stream",
     "text": [
      "## 时间的主人，还是时间的奴隶？\n",
      "\n",
      "科技的进步，让人类得以更加高效地管理时间。高铁、飞机缩短了空间距离，让时间变得更加宝贵；智能手机、电脑帮助我们处理工作、学习，提升效率；各种APP，更是将时间分割得细致入微，仿佛将每一分钟都利用到了极致。\n",
      "\n",
      "然而，这“掌控时间”的表象背后，却隐藏着一种危险的倾向：我们越来越像时间的仆人，而非时间的主人。\n",
      "\n",
      "**一、 时间的碎片化，让我们失去专注的能力。** \n",
      "\n",
      "当我们沉浸在各种APP带来的便利和快感中时，注意力被不断地分散和切割。刷朋友圈、看短视频、回复消息，这些琐碎的任务占据了我们的大部分时间，让我们难以集中精力进行更有意义的活动。我们似乎永远都在“忙碌”，却难以完成真正重要的事情。\n",
      "\n",
      "**二、 效率至上，让我们忽视了生活的本质。** \n",
      "\n",
      "为了提高效率，我们不断地压缩休息时间，将工作、学习塞进每一个空隙。我们追求更快的速度，更短的周期，却忽略了生命中那些宝贵的体验和感悟。我们追求效率，却失去了感受生活的美好，失去了与家人朋友相处的时间，失去了进行自我探索和成长的机会。\n",
      "\n",
      "**三、 科技的依赖，让我们丧失自主的能力。** \n",
      "\n",
      "当我们习惯了各种便捷的工具，习惯了被算法推送的信息，我们对时间的掌控能力逐渐丧失。我们无法控制自己的注意力，无法抵御诱惑，无法做出独立的选择。我们被算法支配着，被数据操控着，最终成为时间的囚徒。\n",
      "\n",
      "那么，该如何摆脱“时间的奴隶”身份，重拾时间主人的权利呢？\n",
      "\n",
      "**首先，我们要学会“断舍离”。** \n",
      "\n",
      "关掉手机，放下平板，走出虚拟世界，回归现实生活。放下那些无用的信息，放下那些无端的焦虑，专注于当下，专注于自己想要做的事情。\n",
      "\n",
      "**其次，我们要学会“慢下来”。** \n",
      "\n",
      "不要被效率的压力所驱使，不要被快节奏的生活所吞噬。慢下来，感受生活，体会生命的真谛。\n",
      "\n",
      "**第三，我们要学会“掌控自己的时间”。** \n",
      "\n",
      "制定计划，设定目标，并坚持执行。学会拒绝不必要的邀约，学会拒绝无效的社交。将时间用在更有意义的事情上，让生活充满活力和成就感。\n",
      "\n",
      "**最后，我们要铭记，时间是有限的，而生命是宝贵的。** \n",
      "\n",
      "不要将时间浪费在无意义的事情上，不要将生命消耗在无价值的追求中。珍惜每一天，感受生命的精彩，活出属于自己的精彩人生。\n",
      "\n",
      "科技的发展，的确给我们带来了便利，也让我们拥有了更多掌控时间的工具。但最终，时间是属于我们自己的，我们才是时间的主人。只有我们学会理性地利用时间，才能真正掌控时间，活出精彩的人生。\n",
      "\n"
     ]
    }
   ],
   "source": [
    "# 2023 高考作文\n",
    "prompt = \"\"\"阅读下面的材料，根据要求写作。\n",
    "人们因技术发展得以更好地掌控时间，但也有人因此成了时间的仆人。\n",
    "这句话引发了你怎样的联想与思考？请写一篇文章。\n",
    "要求：选准角度，确定立意，明确文体，自拟标题；不要套作，不得抄袭；不得泄露个人信息；不少于800字。\n",
    "\"\"\"\n",
    "result = llm.invoke(prompt)\n",
    "print(result.content)"
   ]
  },
  {
   "cell_type": "code",
   "execution_count": 7,
   "metadata": {},
   "outputs": [
    {
     "data": {
      "text/plain": [
       "1046"
      ]
     },
     "execution_count": 7,
     "metadata": {},
     "output_type": "execute_result"
    }
   ],
   "source": [
    "len(result.content)"
   ]
  }
 ],
 "metadata": {
  "kernelspec": {
   "display_name": "llm-jupiter-2",
   "language": "python",
   "name": "python3"
  },
  "language_info": {
   "codemirror_mode": {
    "name": "ipython",
    "version": 3
   },
   "file_extension": ".py",
   "mimetype": "text/x-python",
   "name": "python",
   "nbconvert_exporter": "python",
   "pygments_lexer": "ipython3",
   "version": "3.11.6"
  }
 },
 "nbformat": 4,
 "nbformat_minor": 2
}
