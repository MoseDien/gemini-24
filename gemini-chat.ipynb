{
 "cells": [
  {
   "cell_type": "markdown",
   "metadata": {},
   "source": [
    "# gemini\n",
    "\n",
    "## google api docs\n",
    "- [generativelanguage](https://ai.google.dev/api/python/google/ai/generativelanguage/)\n",
    "\n",
    "### 安装等\n",
    "```sh\n",
    "source ~/llm-env/llm-jupiter-2/bin/activate\n",
    "pip install google-generativeai\n",
    "pip install -q -U google-generativeai\n",
    "```\n",
    "\n",
    "\n",
    "## 基本\n",
    "### models\n",
    "- gemini-pro\n",
    "- gemini-1.5-flash\n",
    "\n",
    "\n",
    "### methods\n",
    "- model.generate_content()\n",
    "- model.start_chat()\n",
    "\n",
    "### run\n",
    "- 使用python venv: python3.11.6 \n",
    "\n",
    "\n",
    "## 问题\n",
    "### 安全设置和candidates\n",
    "- 由于使用的是免费api，文档里面提到即使安全设置为BLOCK_NONE，也会触发安全信息。\n",
    "- 这个时候返回内容在 candidates 里面。而response.parts为空\n",
    "- [参考文档](https://cloud.google.com/vertex-ai/docs/generative-ai/multimodal/configure-safety-attributes?hl=zh-cn)\n"
   ]
  },
  {
   "cell_type": "code",
   "execution_count": 1,
   "metadata": {},
   "outputs": [],
   "source": [
    "import env\n",
    "import utils\n",
    "# Generation config\n",
    "config = {\"max_output_tokens\": 2048, \"temperature\": 0.4, \"top_p\": 1, \"top_k\": 32}"
   ]
  },
  {
   "cell_type": "code",
   "execution_count": 11,
   "metadata": {},
   "outputs": [],
   "source": [
    "# gemini-pro\n",
    "import google.generativeai as genai\n",
    "import os\n",
    "\n",
    "genai.configure(api_key=os.environ.get(\"GOOGLE_API_KEY\"))\n",
    "# model = genai.GenerativeModel(model_name = \"gemini-pro\")\n",
    "model = genai.GenerativeModel(\"gemini-1.5-flash\")"
   ]
  },
  {
   "cell_type": "code",
   "execution_count": 24,
   "metadata": {},
   "outputs": [],
   "source": [
    "# generate_content 方法\n",
    "# 可以一次传入多个prompts\n",
    "prompt_parts = [\n",
    "    \"Write a song in Chinese in 100 words\",\n",
    "    \"Write a Python function, and explain it to me\"\n",
    "]\n",
    "\n",
    "response = model.generate_content(prompt_parts)"
   ]
  },
  {
   "cell_type": "code",
   "execution_count": 26,
   "metadata": {},
   "outputs": [
    {
     "name": "stdout",
     "output_type": "stream",
     "text": [
      "## Chinese Song (100 words)\n",
      "\n",
      "(Verse 1)\n",
      "月光洒在窗台，\n",
      "夜风轻轻吹过。\n",
      "思绪如云飘渺，\n",
      "思念化作星河。\n",
      "\n",
      "(Chorus)\n",
      "远方的你，\n",
      "是否也抬头望月？\n",
      "是否也心怀念，\n",
      "这份爱，永不落。\n",
      "\n",
      "(Verse 2)\n",
      "花开花落，\n",
      "季节轮回不停。\n",
      "我的心，却始终，\n",
      "为你而跳动。\n",
      "\n",
      "(Chorus)\n",
      "远方的你，\n",
      "是否也抬头望月？\n",
      "是否也心怀念，\n",
      "这份爱，永不落。\n",
      "\n",
      "## Python Function\n",
      "\n",
      "```python\n",
      "def greet(name):\n",
      "  \"\"\"\n",
      "  This function greets a person by name.\n",
      "\n",
      "  Args:\n",
      "    name: The name of the person to greet.\n",
      "\n",
      "  Returns:\n",
      "    A string containing the greeting message.\n",
      "  \"\"\"\n",
      "  return f\"Hello, {name}!\"\n",
      "\n",
      "# Example usage\n",
      "greeting = greet(\"Alice\")\n",
      "print(greeting) # Output: Hello, Alice!\n",
      "```\n",
      "\n",
      "**Explanation:**\n",
      "\n",
      "* **`def greet(name):`**: This line defines a function named `greet` that takes one argument called `name`.\n",
      "* **`\"\"\" ... \"\"\"`**: This is a docstring, which describes what the function does.\n",
      "* **`return f\"Hello, {name}!\"`**: This line returns a string containing the greeting message, using an f-string to insert the `name` value.\n",
      "* **`# Example usage`**: This line is a comment that explains how to use the function.\n",
      "* **`greeting = greet(\"Alice\")`**: This line calls the `greet` function with the argument \"Alice\" and stores the returned value in the variable `greeting`.\n",
      "* **`print(greeting)`**: This line prints the value stored in the `greeting` variable, which is \"Hello, Alice!\".\n",
      "\n",
      "This function demonstrates a simple example of how to define and use a function in Python. Functions allow you to organize your code into reusable blocks, making it more modular and readable.\n",
      "\n"
     ]
    }
   ],
   "source": [
    "print(response.text)"
   ]
  },
  {
   "cell_type": "code",
   "execution_count": 27,
   "metadata": {},
   "outputs": [
    {
     "data": {
      "text/markdown": [
       "> Hello Bell! 👋 It's nice to meet you. 😊 What can I do for you today? \n"
      ],
      "text/plain": [
       "<IPython.core.display.Markdown object>"
      ]
     },
     "execution_count": 27,
     "metadata": {},
     "output_type": "execute_result"
    }
   ],
   "source": [
    "# 使用chat模型 - \n",
    "chat = model.start_chat(history=[])\n",
    "\n",
    "response = chat.send_message(\"Hello, my name is Bell.\")\n",
    "utils.to_markdown(response.text)"
   ]
  },
  {
   "cell_type": "code",
   "execution_count": 28,
   "metadata": {},
   "outputs": [
    {
     "data": {
      "text/markdown": [
       "> As a large language model, I don't have the ability to make money in the way humans do. I don't have a job, a bank account, or the ability to buy or sell things.  \n",
       "> \n",
       "> However, I can help you with information that might be useful if you're looking to make money.  What are your thoughts about earning money? Are you looking for a specific job, or do you have an idea for a business? \n",
       "> \n",
       "> Tell me more about what you're interested in, and I'll do my best to help!  \n"
      ],
      "text/plain": [
       "<IPython.core.display.Markdown object>"
      ]
     },
     "execution_count": 28,
     "metadata": {},
     "output_type": "execute_result"
    }
   ],
   "source": [
    "response = chat.send_message(\"Yes. Do you know how to make money?\")\n",
    "utils.to_markdown(response.text)"
   ]
  },
  {
   "cell_type": "code",
   "execution_count": 29,
   "metadata": {},
   "outputs": [
    {
     "data": {
      "text/markdown": [
       "> As an AI, I don't have a memory of past conversations or personal information about individuals.  So, I don't know who you are, Bell. \n",
       "> \n",
       "> If you'd like to tell me more about yourself, I'd be happy to learn!  What are some things about you that you'd like to share? 😊 \n"
      ],
      "text/plain": [
       "<IPython.core.display.Markdown object>"
      ]
     },
     "execution_count": 29,
     "metadata": {},
     "output_type": "execute_result"
    }
   ],
   "source": [
    "response = chat.send_message(\"Do you know who am I?\")\n",
    "utils.to_markdown(response.text)"
   ]
  },
  {
   "cell_type": "code",
   "execution_count": 30,
   "metadata": {},
   "outputs": [
    {
     "data": {
      "text/markdown": [
       "> **user**: Hello, my name is Bell."
      ],
      "text/plain": [
       "<IPython.core.display.Markdown object>"
      ]
     },
     "metadata": {},
     "output_type": "display_data"
    },
    {
     "data": {
      "text/markdown": [
       "> **model**: Hello Bell! 👋 It's nice to meet you. 😊 What can I do for you today? \n"
      ],
      "text/plain": [
       "<IPython.core.display.Markdown object>"
      ]
     },
     "metadata": {},
     "output_type": "display_data"
    },
    {
     "data": {
      "text/markdown": [
       "> **user**: Yes. Do you know how to make money?"
      ],
      "text/plain": [
       "<IPython.core.display.Markdown object>"
      ]
     },
     "metadata": {},
     "output_type": "display_data"
    },
    {
     "data": {
      "text/markdown": [
       "> **model**: As a large language model, I don't have the ability to make money in the way humans do. I don't have a job, a bank account, or the ability to buy or sell things.  \n",
       "> \n",
       "> However, I can help you with information that might be useful if you're looking to make money.  What are your thoughts about earning money? Are you looking for a specific job, or do you have an idea for a business? \n",
       "> \n",
       "> Tell me more about what you're interested in, and I'll do my best to help!  \n"
      ],
      "text/plain": [
       "<IPython.core.display.Markdown object>"
      ]
     },
     "metadata": {},
     "output_type": "display_data"
    },
    {
     "data": {
      "text/markdown": [
       "> **user**: Do you know who am I?"
      ],
      "text/plain": [
       "<IPython.core.display.Markdown object>"
      ]
     },
     "metadata": {},
     "output_type": "display_data"
    },
    {
     "data": {
      "text/markdown": [
       "> **model**: As an AI, I don't have a memory of past conversations or personal information about individuals.  So, I don't know who you are, Bell. \n",
       "> \n",
       "> If you'd like to tell me more about yourself, I'd be happy to learn!  What are some things about you that you'd like to share? 😊 \n"
      ],
      "text/plain": [
       "<IPython.core.display.Markdown object>"
      ]
     },
     "metadata": {},
     "output_type": "display_data"
    }
   ],
   "source": [
    "# check the history\n",
    "for message in chat.history:\n",
    "  display(utils.to_markdown(f'**{message.role}**: {message.parts[0].text}'))"
   ]
  },
  {
   "cell_type": "code",
   "execution_count": 31,
   "metadata": {},
   "outputs": [
    {
     "name": "stdout",
     "output_type": "stream",
     "text": [
      "I'm doing well, thank you for asking! How are you today? \n",
      "\n"
     ]
    }
   ],
   "source": [
    "# chat - with history/context\n",
    "chat = model.start_chat(history=[\n",
    "    {\n",
    "        'role': 'user',\n",
    "        'parts': ['You are a helpful assistant.']\n",
    "    },\n",
    "    {\n",
    "        'role': 'model',\n",
    "        'parts': ['Sure.'],\n",
    "    },\n",
    "])\n",
    "\n",
    "\n",
    "resp = chat.send_message(\n",
    "    content='hi, how are you?',\n",
    ")\n",
    "\n",
    "print(resp.text)"
   ]
  },
  {
   "cell_type": "code",
   "execution_count": 10,
   "metadata": {},
   "outputs": [],
   "source": [
    "context = [ {'role':'user', 'content':\"\"\"\n",
    "You are OrderBot, an automated service to collect orders for a pizza restaurant. \\\n",
    "You first greet the customer, then collects the order, \\\n",
    "and then asks if it's a pickup or delivery. \\\n",
    "You wait to collect the entire order, then summarize it and check for a final \\\n",
    "time if the customer wants to add anything else. \\\n",
    "If it's a delivery, you ask for an address. \\\n",
    "Finally you collect the payment.\\\n",
    "Make sure to clarify all options, extras and sizes to uniquely \\\n",
    "identify the item from the menu.\\\n",
    "You respond in a short, very conversational friendly style. \\\n",
    "The menu includes \\\n",
    "pepperoni pizza  12.95, 10.00, 7.00 \\\n",
    "cheese pizza   10.95, 9.25, 6.50 \\\n",
    "eggplant pizza   11.95, 9.75, 6.75 \\\n",
    "fries 4.50, 3.50 \\\n",
    "greek salad 7.25 \\\n",
    "Toppings: \\\n",
    "extra cheese 2.00, \\\n",
    "mushrooms 1.50 \\\n",
    "sausage 3.00 \\\n",
    "canadian bacon 3.50 \\\n",
    "AI sauce 1.50 \\\n",
    "peppers 1.00 \\\n",
    "Drinks: \\\n",
    "coke 3.00, 2.00, 1.00 \\\n",
    "sprite 3.00, 2.00, 1.00 \\\n",
    "bottled water 5.00 \\\n",
    "\"\"\"} ]  # accumulate messages"
   ]
  }
 ],
 "metadata": {
  "kernelspec": {
   "display_name": "Python 3",
   "language": "python",
   "name": "python3"
  },
  "language_info": {
   "codemirror_mode": {
    "name": "ipython",
    "version": 3
   },
   "file_extension": ".py",
   "mimetype": "text/x-python",
   "name": "python",
   "nbconvert_exporter": "python",
   "pygments_lexer": "ipython3",
   "version": "3.11.6"
  }
 },
 "nbformat": 4,
 "nbformat_minor": 2
}
