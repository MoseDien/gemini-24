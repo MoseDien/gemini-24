{
 "cells": [
  {
   "cell_type": "markdown",
   "metadata": {},
   "source": [
    "# 展示Gemini在视觉方面的能力"
   ]
  },
  {
   "cell_type": "code",
   "execution_count": 2,
   "metadata": {},
   "outputs": [],
   "source": [
    "import env\n",
    "import utils\n",
    "# Generation config\n",
    "config = {\"max_output_tokens\": 2048, \"temperature\": 0.4, \"top_p\": 1, \"top_k\": 32}"
   ]
  },
  {
   "cell_type": "code",
   "execution_count": 3,
   "metadata": {},
   "outputs": [],
   "source": [
    "import google.generativeai as genai\n",
    "\n",
    "# llm = genai.GenerativeModel('gemini-pro-vision') // 已经废弃了\n",
    "llm = genai.GenerativeModel('gemini-1.5-flash')"
   ]
  },
  {
   "cell_type": "code",
   "execution_count": 3,
   "metadata": {},
   "outputs": [
    {
     "data": {
      "text/markdown": [
       "> This is a picture of a cat wearing a colorful toy collar. The cat is a tabby with white stripes and is sitting next to a human hand. The background is a pink wall. The cat is looking away from the camera. The image appears to be taken indoors."
      ],
      "text/plain": [
       "<IPython.core.display.Markdown object>"
      ]
     },
     "execution_count": 3,
     "metadata": {},
     "output_type": "execute_result"
    }
   ],
   "source": [
    "# case 1: 描述图像\n",
    "import PIL.Image\n",
    "\n",
    "img = PIL.Image.open('./images/damao.jpg')\n",
    "\n",
    "response = llm.generate_content(img)\n",
    "\n",
    "utils.to_markdown(response.text)"
   ]
  },
  {
   "cell_type": "code",
   "execution_count": 4,
   "metadata": {},
   "outputs": [
    {
     "data": {
      "text/markdown": [
       "> This is the  **Pingba Bridge** over the **Wujiang River** in **Guizhou**, **China**."
      ],
      "text/plain": [
       "<IPython.core.display.Markdown object>"
      ]
     },
     "execution_count": 4,
     "metadata": {},
     "output_type": "execute_result"
    }
   ],
   "source": [
    "# case 1: 描述图像\n",
    "import PIL.Image\n",
    "\n",
    "img = PIL.Image.open('./images/bridge.jpeg')\n",
    "response = llm.generate_content(img)\n",
    "utils.to_markdown(response.text)"
   ]
  },
  {
   "cell_type": "code",
   "execution_count": 9,
   "metadata": {},
   "outputs": [
    {
     "data": {
      "text/markdown": [
       "> This is a picture of a bridge with a large archway. The bridge is made of concrete and has a metal railing on either side. The archway is very tall and has a large, open space in the middle. The bridge is surrounded by trees and hills. The sky is clear and blue. The image is taken from the side of the bridge and looks down towards the archway. The picture is in focus and well-lit."
      ],
      "text/plain": [
       "<IPython.core.display.Markdown object>"
      ]
     },
     "execution_count": 9,
     "metadata": {},
     "output_type": "execute_result"
    }
   ],
   "source": [
    "img = PIL.Image.open('./images/jls.JPG')\n",
    "response = llm.generate_content(img)\n",
    "utils.to_markdown(response.text)"
   ]
  },
  {
   "cell_type": "code",
   "execution_count": 4,
   "metadata": {},
   "outputs": [
    {
     "data": {
      "text/plain": [
       "[<IPython.core.display.Markdown object>,\n",
       " <IPython.core.display.Markdown object>,\n",
       " <IPython.core.display.Markdown object>,\n",
       " <IPython.core.display.Markdown object>]"
      ]
     },
     "execution_count": 4,
     "metadata": {},
     "output_type": "execute_result"
    }
   ],
   "source": [
    "# case 1: 描述图像\n",
    "import PIL.Image\n",
    "\n",
    "images = [\"./images/xinhai.JPG\", \"./images/home.JPG\", \"./images/home2.JPG\", \"./images/jls.JPG\"]\n",
    "outputs = []\n",
    "for url in images:\n",
    "    img = PIL.Image.open(url)\n",
    "    response = llm.generate_content(img)\n",
    "    output = utils.to_markdown(response.text)\n",
    "    outputs.append(output)\n",
    "\n",
    "outputs"
   ]
  },
  {
   "cell_type": "code",
   "execution_count": 5,
   "metadata": {},
   "outputs": [
    {
     "data": {
      "text/markdown": [
       "> This is a photo of a group of people walking by a bridge. They are all wearing winter clothes and some have their faces covered. The bridge is grey and has a lot of cables. In the background, the sky is blue and there are several seagulls flying. The photo is taken from a low angle. The shadows of the people and the bridge are long and thin. The photo has a sense of movement and energy."
      ],
      "text/plain": [
       "<IPython.core.display.Markdown object>"
      ]
     },
     "execution_count": 5,
     "metadata": {},
     "output_type": "execute_result"
    }
   ],
   "source": [
    "outputs[0]"
   ]
  },
  {
   "cell_type": "code",
   "execution_count": 12,
   "metadata": {},
   "outputs": [],
   "source": [
    "# 使用langchain wrapper\n",
    "from langchain_google_genai import ChatGoogleGenerativeAI\n",
    "\n",
    "# langchain_model = ChatGoogleGenerativeAI(model=\"gemini-pro-vision\")\n",
    "langchain_model = ChatGoogleGenerativeAI(model=\"gemini-1.5-flash\")"
   ]
  },
  {
   "cell_type": "code",
   "execution_count": 7,
   "metadata": {},
   "outputs": [],
   "source": [
    "# lanchain model\n",
    "from langchain_google_genai import ChatGoogleGenerativeAI\n",
    "\n",
    "# llm = ChatGoogleGenerativeAI(model=\"gemini-pro\")\n",
    "langchain_model = ChatGoogleGenerativeAI(model=\"gemini-1.5-flash\")"
   ]
  },
  {
   "cell_type": "code",
   "execution_count": 8,
   "metadata": {},
   "outputs": [
    {
     "data": {
      "text/plain": [
       "AIMessage(content='The image shows a snow-capped mountain peak with a pink and purple sunset sky. It is likely taken in the Alps, as the mountain shape is reminiscent of the Matterhorn.')"
      ]
     },
     "execution_count": 8,
     "metadata": {},
     "output_type": "execute_result"
    }
   ],
   "source": [
    "# case 2: 图像识别\n",
    "from langchain_core.messages import HumanMessage\n",
    "\n",
    "# example\n",
    "message = HumanMessage(\n",
    "    content=[\n",
    "        {\n",
    "            \"type\": \"text\",\n",
    "            \"text\": \"What's in this image & where is this image?\",\n",
    "        },  \n",
    "        {\"type\": \"image_url\", \"image_url\": \"https://picsum.photos/seed/picsum/200/300\"},\n",
    "    ]\n",
    ")\n",
    "langchain_model.invoke([message])"
   ]
  },
  {
   "cell_type": "code",
   "execution_count": 9,
   "metadata": {},
   "outputs": [
    {
     "data": {
      "text/plain": [
       "[AIMessage(content=\"This image appears to be taken inside the Bird's Nest stadium in Beijing, China. This is based on the shape of the stadium, the red seats, and the overall architecture. \\n\"),\n",
       " AIMessage(content='This image appears to be taken in a park or public square. There are many pigeons in the image, and it looks like there may be a public building in the background. However, there are no identifying features visible in this image that would allow me to determine the exact location.'),\n",
       " AIMessage(content='I do not see any image in your message. Please provide an image. \\n'),\n",
       " AIMessage(content='This image appears to be from the Shanxi province of China. It depicts an ancient walled city, known as a \"yao\" in Chinese. These structures are often built on hillsides and have served as defensive strongholds throughout Chinese history. \\n\\nHowever, to pinpoint the exact location, I\\'d need more information about the specific architecture or historical context of the image.  \\n'),\n",
       " AIMessage(content='This image is of the Summer Palace in Beijing, China.')]"
      ]
     },
     "execution_count": 9,
     "metadata": {},
     "output_type": "execute_result"
    }
   ],
   "source": [
    "# case 2: 图像识别\n",
    "from langchain_core.messages import HumanMessage\n",
    "\n",
    "urls = [\n",
    "    \"https://live.staticflickr.com/4127/5089855498_8aafa4a66e.jpg\", # 奥体\n",
    "    \"https://live.staticflickr.com/4111/5089274647_465b572424.jpg\", # 大连中山广场\n",
    "    \"https://live.staticflickr.com/4124/5088895803_c58698f557_w.jpg\", # 颐和园\n",
    "    \"https://live.staticflickr.com/4037/5088900151_97d6c76e96_w.jpg\", # 山西李家山村\n",
    "    \"http://www.people.com.cn/NMediaFile/2023/1217/MAIN1702781405879FFZQBX0NHJ.jpg\", # 北海公园\n",
    "]\n",
    "# example\n",
    "outputs = []\n",
    "for url in urls:\n",
    "    message = HumanMessage(\n",
    "        content=[\n",
    "            {\n",
    "                \"type\": \"text\",\n",
    "                \"text\": \"Where is this image?\",\n",
    "            },  \n",
    "            {\"type\": \"image_url\", \"image_url\": f\"{url}\"},\n",
    "        ]\n",
    "    )\n",
    "    output = langchain_model.invoke([message])\n",
    "    outputs.append(output)\n",
    "    \n",
    "outputs"
   ]
  }
 ],
 "metadata": {
  "kernelspec": {
   "display_name": "llm-jupiter-2",
   "language": "python",
   "name": "python3"
  },
  "language_info": {
   "codemirror_mode": {
    "name": "ipython",
    "version": 3
   },
   "file_extension": ".py",
   "mimetype": "text/x-python",
   "name": "python",
   "nbconvert_exporter": "python",
   "pygments_lexer": "ipython3",
   "version": "3.11.6"
  }
 },
 "nbformat": 4,
 "nbformat_minor": 2
}
